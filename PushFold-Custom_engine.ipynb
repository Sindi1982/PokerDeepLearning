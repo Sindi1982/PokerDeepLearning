{
 "cells": [
  {
   "cell_type": "code",
   "execution_count": 1,
   "metadata": {},
   "outputs": [
    {
     "name": "stderr",
     "output_type": "stream",
     "text": [
      "Using TensorFlow backend.\n"
     ]
    },
    {
     "name": "stdout",
     "output_type": "stream",
     "text": [
      "_________________________________________________________________\n",
      "Layer (type)                 Output Shape              Param #   \n",
      "=================================================================\n",
      "input (InputLayer)           (None, 16)                0         \n",
      "_________________________________________________________________\n",
      "dense_1 (Dense)              (None, 32)                544       \n",
      "_________________________________________________________________\n",
      "dense_2 (Dense)              (None, 64)                2112      \n",
      "_________________________________________________________________\n",
      "dense_3 (Dense)              (None, 16)                1040      \n",
      "_________________________________________________________________\n",
      "dense_4 (Dense)              (None, 2)                 34        \n",
      "=================================================================\n",
      "Total params: 3,730\n",
      "Trainable params: 3,730\n",
      "Non-trainable params: 0\n",
      "_________________________________________________________________\n"
     ]
    }
   ],
   "source": [
    "from models import preflop_model\n",
    "\n",
    "model = preflop_model()\n",
    "model.summary()"
   ]
  },
  {
   "cell_type": "code",
   "execution_count": 2,
   "metadata": {},
   "outputs": [],
   "source": [
    "from engine import Engine\n",
    "from treys import Card\n",
    "import numpy as np\n",
    "from constants import Actions\n",
    "\n",
    "engine = Engine()\n"
   ]
  },
  {
   "cell_type": "code",
   "execution_count": null,
   "metadata": {},
   "outputs": [
    {
     "name": "stdout",
     "output_type": "stream",
     "text": [
      "500\n",
      "1000\n",
      "\n",
      "\n",
      "round 1000\n",
      "Won(SB): -10   Total won (SB): -3693\n",
      "SB pushed 84% , BB called 29%\n",
      "sb_features\n",
      "[[ 0.    0.    0.    0.    1.    0.    0.    0.    0.    0.    0.    0.    0.\n",
      "   1.    1.    0.89]]\n",
      "allQ_sb:\n",
      "[[-10.         -11.64652824]]\n",
      "\n",
      "bb_features\n",
      "[[ 0.    1.    0.    0.    0.    0.    0.    1.    0.    0.    0.    0.    0.\n",
      "   0.    0.    0.89]]\n",
      "allQ_bb:\n",
      "[[-21.46174049 -86.01194   ]]\n",
      "Epoch 1/5\n",
      "1850/1850 [==============================] - 1s 290us/step - loss: 5672.6792\n",
      "Epoch 2/5\n",
      "1850/1850 [==============================] - 0s 269us/step - loss: 5605.5565\n",
      "Epoch 3/5\n",
      "1850/1850 [==============================] - 1s 339us/step - loss: 5545.1691\n",
      "Epoch 4/5\n",
      "1850/1850 [==============================] - 0s 270us/step - loss: 5511.5311\n",
      "Epoch 5/5\n",
      "1850/1850 [==============================] - 0s 269us/step - loss: 5483.3903\n",
      "1500\n",
      "2000\n",
      "\n",
      "\n",
      "round 2000\n",
      "Won(SB): -10   Total won (SB): 2584\n",
      "SB pushed 83% , BB called 31%\n",
      "sb_features\n",
      "[[ 0.      0.      1.      0.      0.      0.      1.      0.      0.      0.\n",
      "   0.      0.      0.      1.      1.      0.7325]]\n",
      "allQ_sb:\n",
      "[[-10.        -15.7150631]]\n",
      "\n",
      "bb_features\n",
      "[[ 0.      0.      0.      0.      0.      0.      0.      0.      1.      1.\n",
      "   0.      0.      0.      0.      0.      0.7325]]\n",
      "allQ_bb:\n",
      "[[-21.39982414 -38.2742157 ]]\n",
      "Epoch 1/5\n",
      "2971/2971 [==============================] - 1s 275us/step - loss: 6315.7919\n",
      "Epoch 2/5\n",
      "2971/2971 [==============================] - 1s 273us/step - loss: 6256.7055\n",
      "Epoch 3/5\n",
      "2971/2971 [==============================] - 1s 291us/step - loss: 6243.9291\n",
      "Epoch 4/5\n",
      "2971/2971 [==============================] - 1s 277us/step - loss: 6213.0703\n",
      "Epoch 5/5\n",
      "2971/2971 [==============================] - 1s 292us/step - loss: 6188.4503\n",
      "2500\n",
      "3000\n",
      "\n",
      "\n",
      "round 3000\n",
      "Won(SB): 20   Total won (SB): 2179\n",
      "SB pushed 84% , BB called 33%\n",
      "sb_features\n",
      "[[ 0.     0.     0.     0.     0.     0.     0.     0.     0.     0.     0.\n",
      "   1.     1.     0.     1.     0.295]]\n",
      "allQ_sb:\n",
      "[[-11.34045982  20.        ]]\n",
      "\n",
      "bb_features\n",
      "[[ 0.     0.     1.     0.     1.     0.     0.     0.     0.     0.     0.\n",
      "   0.     0.     0.     0.     0.295]]\n",
      "allQ_bb:\n",
      "[[-20.         -68.94346619]]\n",
      "Epoch 1/5\n",
      "2976/2976 [==============================] - 1s 302us/step - loss: 7399.3618\n",
      "Epoch 2/5\n",
      "2976/2976 [==============================] - 1s 270us/step - loss: 7339.7666\n",
      "Epoch 3/5\n",
      "2976/2976 [==============================] - 1s 269us/step - loss: 7299.2278\n",
      "Epoch 4/5\n",
      "2976/2976 [==============================] - 1s 290us/step - loss: 7288.8247\n",
      "Epoch 5/5\n",
      "2976/2976 [==============================] - 1s 275us/step - loss: 7277.9986\n",
      "3500\n",
      "4000\n",
      "\n",
      "\n",
      "round 4000\n",
      "Won(SB): 20   Total won (SB): 1832\n",
      "SB pushed 83% , BB called 34%\n",
      "sb_features\n",
      "[[ 1.      0.      0.      0.      0.      0.      0.      0.      0.      0.\n",
      "   1.      0.      0.      0.      1.      0.5175]]\n",
      "allQ_sb:\n",
      "[[-10.46995544  20.        ]]\n",
      "\n",
      "bb_features\n",
      "[[ 0.      1.      0.      0.      0.      0.      1.      0.      0.      0.\n",
      "   0.      0.      0.      1.      0.      0.5175]]\n",
      "allQ_bb:\n",
      "[[-20.         -79.21412659]]\n",
      "Epoch 1/5\n",
      "2987/2987 [==============================] - 1s 289us/step - loss: 7747.6250\n",
      "Epoch 2/5\n",
      "2987/2987 [==============================] - 1s 273us/step - loss: 7692.1786\n",
      "Epoch 3/5\n",
      "2987/2987 [==============================] - 1s 270us/step - loss: 7656.2331\n",
      "Epoch 4/5\n",
      "2987/2987 [==============================] - 1s 298us/step - loss: 7638.9297\n",
      "Epoch 5/5\n",
      "2987/2987 [==============================] - 1s 297us/step - loss: 7623.2032\n",
      "4500\n",
      "5000\n",
      "\n",
      "\n",
      "round 5000\n",
      "Won(SB): 20   Total won (SB): 6096\n",
      "SB pushed 81% , BB called 36%\n",
      "sb_features\n",
      "[[ 1.     0.     0.     0.     0.     0.     0.     0.     0.     1.     0.\n",
      "   0.     0.     0.     1.     0.895]]\n",
      "allQ_sb:\n",
      "[[ -8.04380417  20.        ]]\n",
      "\n",
      "bb_features\n",
      "[[ 1.     0.     0.     0.     0.     0.     0.     0.     0.     0.     1.\n",
      "   0.     0.     0.     0.     0.895]]\n",
      "allQ_bb:\n",
      "[[-20.         -60.65088654]]\n",
      "Epoch 1/5\n",
      "2976/2976 [==============================] - 1s 284us/step - loss: 8341.3928\n",
      "Epoch 2/5\n",
      "2976/2976 [==============================] - 1s 281us/step - loss: 8298.2790\n",
      "Epoch 3/5\n",
      "2976/2976 [==============================] - 1s 282us/step - loss: 8273.8104\n",
      "Epoch 4/5\n",
      "2976/2976 [==============================] - 1s 273us/step - loss: 8245.0715\n",
      "Epoch 5/5\n",
      "2976/2976 [==============================] - 1s 268us/step - loss: 8224.1648\n",
      "5500\n",
      "6000\n",
      "\n",
      "\n",
      "round 6000\n",
      "Won(SB): 20   Total won (SB): 5807\n",
      "SB pushed 80% , BB called 37%\n",
      "sb_features\n",
      "[[ 0.      0.      0.      0.      1.      0.      0.      0.      0.      0.\n",
      "   1.      0.      0.      0.      1.      0.4075]]\n",
      "allQ_sb:\n",
      "[[-11.41576481  20.        ]]\n",
      "\n",
      "bb_features\n",
      "[[ 0.      1.      0.      0.      0.      0.      0.      0.      0.      1.\n",
      "   0.      0.      0.      0.      0.      0.4075]]\n",
      "allQ_bb:\n",
      "[[-20.         -57.44398117]]\n",
      "Epoch 1/5\n",
      "2986/2986 [==============================] - 1s 288us/step - loss: 7784.4288\n",
      "Epoch 2/5\n",
      "2986/2986 [==============================] - 1s 269us/step - loss: 7742.4673\n",
      "Epoch 3/5\n",
      "2986/2986 [==============================] - 1s 275us/step - loss: 7712.3569\n",
      "Epoch 4/5\n",
      "2986/2986 [==============================] - 1s 283us/step - loss: 7694.9262\n",
      "Epoch 5/5\n",
      "2986/2986 [==============================] - 1s 259us/step - loss: 7677.6251\n"
     ]
    }
   ],
   "source": [
    "num_hands = 25000\n",
    "total_reward = 0\n",
    "\n",
    "e = 0.1\n",
    "loss = []\n",
    "\n",
    "sb_pushed_plt = []\n",
    "bb_called_plt = []\n",
    "\n",
    "state_sb = np.zeros((16))\n",
    "state_bb = np.zeros((16))\n",
    "\n",
    "targetQ = np.zeros((2))\n",
    "\n",
    "bankroll_sb = [0]\n",
    "player1 = True\n",
    "\n",
    "replay_state = []\n",
    "replay_Q = []\n",
    "max_replay = 3000\n",
    "\n",
    "sb_pushed = 0\n",
    "bb_called = 0\n",
    "\n",
    "\n",
    "for i in range(num_hands):\n",
    "    reward_sb = 0\n",
    "    reward_bb = 0\n",
    "\n",
    "  \n",
    "    engine.new_hand(starting_stack=np.random.randint(40,400))\n",
    "\n",
    "    sb_features = np.concatenate([engine.get_pocket_cards_features(0),np.array([engine.has_suited_pockets(0),1,engine.starting_stack/400])]).reshape((1,16))\n",
    "    bb_features = np.concatenate([engine.get_pocket_cards_features(1),np.array([engine.has_suited_pockets(1),0,engine.starting_stack/400])]).reshape((1,16))\n",
    "\n",
    "    replay_state.append(sb_features.reshape((16,)))\n",
    "    \n",
    "    \n",
    "    #run model to choose action\n",
    "    allQ_sb = model.predict(sb_features)\n",
    "    action_sb = np.argmax(allQ_sb)\n",
    "    allQ_bb = model.predict(bb_features)\n",
    "    action_bb = np.argmax(allQ_bb)\n",
    "\n",
    "    #randomly discover new line\n",
    "    if(np.random.rand(1) < e):\n",
    "\n",
    "        action_sb = np.random.randint(0,2)\n",
    "        action_bb = np.random.randint(0,2)\n",
    "        \n",
    "\n",
    "    if action_sb == 1:\n",
    "        sb_pushed +=1\n",
    "        engine.play_action(Actions.BET,engine.get_bet_range()[1])\n",
    "    \n",
    "        \n",
    "        if action_bb == 1:\n",
    "            bb_called +=1\n",
    "            engine.play_action(Actions.CALL, 0)  \n",
    "        else:\n",
    "            engine.play_action(Actions.FOLD,0)\n",
    "\n",
    "    else:\n",
    "        engine.play_action(Actions.FOLD,0)\n",
    "    \n",
    "\n",
    "    if engine.winner != -1:\n",
    "        r = engine.get_sb_won()\n",
    "\n",
    "    else:\n",
    "        print('not fichished walla')\n",
    "    total_reward +=r\n",
    "    bankroll_sb.append(bankroll_sb[-1]+r)\n",
    "    \n",
    "    allQ_sb[0,action_sb] = r\n",
    "    replay_Q.append(allQ_sb.reshape((2,)))\n",
    "    \n",
    "    #train only if sb played. otherwise positive reward for folding\n",
    "    if action_sb == 1:\n",
    "        replay_state.append(bb_features.reshape((16,)))\n",
    "        allQ_bb[0,action_bb] = -r\n",
    "        replay_Q.append(allQ_bb.reshape((2,)))\n",
    "    \n",
    "    if(i%500 == 0 and i > 0):\n",
    "        print(i)\n",
    "\n",
    "    if(i%1000== 0 and i > 0):\n",
    "        sb_pushed_pct = int(sb_pushed/(i+1)*100)\n",
    "        sb_pushed_plt.append(sb_pushed_pct)\n",
    "        bb_called_pct = int(bb_called/(sb_pushed+1)*100)\n",
    "        bb_called_plt.append(bb_called_pct)\n",
    "        print('\\n\\nround',i)\n",
    "        print('Won(SB):',r,'  Total won (SB):',total_reward)\n",
    "        print('SB pushed ' + str(sb_pushed_pct)+'% , BB called '+  str(bb_called_pct)+'%' )\n",
    "        print('sb_features')\n",
    "        print(sb_features)\n",
    "        print('allQ_sb:')\n",
    "        print(allQ_sb)\n",
    "        print('\\nbb_features')\n",
    "        print(bb_features)\n",
    "        print('allQ_bb:')   \n",
    "        print(allQ_bb)\n",
    "        \n",
    "                \n",
    "        model.fit(np.stack(replay_state),np.stack(replay_Q),verbose=1,epochs=5)\n",
    "\n",
    "\n",
    "    if(len(replay_state) > max_replay):\n",
    "        replay_state = replay_state[50:]\n",
    "        replay_Q = replay_Q[50:]\n"
   ]
  },
  {
   "cell_type": "code",
   "execution_count": 9,
   "metadata": {},
   "outputs": [
    {
     "data": {
      "text/plain": [
       "[<matplotlib.lines.Line2D at 0x24b22e4c9e8>]"
      ]
     },
     "execution_count": 9,
     "metadata": {},
     "output_type": "execute_result"
    },
    {
     "data": {
      "image/png": "[encoded data removed]",
      "text/plain": [
       "<Figure size 432x288 with 1 Axes>"
      ]
     },
     "metadata": {},
     "output_type": "display_data"
    }
   ],
   "source": [
    "%matplotlib inline\n",
    "import seaborn as sns\n",
    "import matplotlib.pyplot as plt\n",
    "\n",
    "plt.plot(sb_pushed_plt[1:])\n",
    "plt.plot(bb_called_plt[1:])"
   ]
  },
  {
   "cell_type": "code",
   "execution_count": 10,
   "metadata": {},
   "outputs": [],
   "source": [
    "from metrics import compute_nash_pusher\n",
    "from metrics import compute_nash_caller\n",
    "call_nash = compute_nash_caller(model)\n",
    "push_chart = compute_nash_pusher(model)"
   ]
  },
  {
   "cell_type": "code",
   "execution_count": 11,
   "metadata": {},
   "outputs": [
    {
     "data": {
      "text/plain": [
       "<matplotlib.axes._subplots.AxesSubplot at 0x24befa13eb8>"
      ]
     },
     "execution_count": 11,
     "metadata": {},
     "output_type": "execute_result"
    },
    {
     "data": {
      "image/png": "[encoded data removed]",
      "text/plain": [
       "<Figure size 432x288 with 2 Axes>"
      ]
     },
     "metadata": {},
     "output_type": "display_data"
    }
   ],
   "source": [
    "sns.heatmap(push_chart)"
   ]
  },
  {
   "cell_type": "code",
   "execution_count": 12,
   "metadata": {},
   "outputs": [
    {
     "data": {
      "text/plain": [
       "<matplotlib.axes._subplots.AxesSubplot at 0x24becba58d0>"
      ]
     },
     "execution_count": 12,
     "metadata": {},
     "output_type": "execute_result"
    },
    {
     "data": {
      "image/png": "[encoded data removed]",
      "text/plain": [
       "<Figure size 432x288 with 2 Axes>"
      ]
     },
     "metadata": {},
     "output_type": "display_data"
    }
   ],
   "source": [
    "sns.heatmap(call_nash)"
   ]
  },
  {
   "cell_type": "code",
   "execution_count": 13,
   "metadata": {},
   "outputs": [
    {
     "data": {
      "text/plain": [
       "array([[ 20. ,  20. ,  20. ,  20. ,  20. ,  20. ,  20. ,  20. ,  20. ,\n",
       "         17.1,  20. ,   1.1,  20. ],\n",
       "       [ 20. ,  20. ,  20. ,  20. ,  20. ,  20. ,  20. ,  20. ,   1.1,\n",
       "          9.4,   1.1,   1.1,   1.1],\n",
       "       [ 20. ,  20. ,  20. ,  20. ,  20. ,  20. ,   1.5,   4.1,   1.1,\n",
       "         12. ,   1.1,   1.1,   1.1],\n",
       "       [ 20. ,  20. ,   7.4,  20. ,   4.3,  20. ,   2. ,   4.8,   1.1,\n",
       "          6.8,   1.1,   1.1,   1.1],\n",
       "       [ 11.7,   2.8,   4.5,   3.6,   2.4,   8.2,   1.1,   1.1,   1.1,\n",
       "          1.1,   1.1,   1.1,   1.1],\n",
       "       [ 20. ,  13.8,  20. ,  14.1,   3.3,  10.4,   6.5,   6.8,   1.1,\n",
       "          8.2,   1.1,   1.1,   1.1],\n",
       "       [ 20. ,   7.5,   3.2,   2.2,   1.9,  10.4,  11.4,   1.1,   1.1,\n",
       "          2.3,   1.1,   1.1,   1.1],\n",
       "       [ 20. ,  11.1,   8.8,   6.5,   1.1,   7.4,   8.1,  12. ,   1.1,\n",
       "          1.1,   1.1,   1.1,   1.1],\n",
       "       [  4.9,   1.1,   1.1,   1.1,   1.1,   1.1,   1.1,   1.1,   0. ,\n",
       "          1.1,   1.1,   1.1,   1.1],\n",
       "       [ 20. ,  13.4,  17.2,  11.3,   1.1,   9.8,  10.7,   3.6,   1.1,\n",
       "         13.4,   1.1,   1.1,   1.1],\n",
       "       [ 20. ,   3.5,   2.7,   3.7,   1.1,   1.1,   1.1,   1.1,   1.1,\n",
       "          1.1,   2.3,   1.1,   1.1],\n",
       "       [  5.4,   1.1,   1.1,   1.1,   1.1,   1.1,   1.1,   1.1,   1.1,\n",
       "          1.1,   1.1,   0. ,   1.1],\n",
       "       [ 20. ,   1.1,   1.1,   1.1,   1.1,   1.1,   1.1,   1.1,   1.1,\n",
       "          1.1,   1.1,   1.1,   0. ]])"
      ]
     },
     "execution_count": 13,
     "metadata": {},
     "output_type": "execute_result"
    }
   ],
   "source": [
    "call_nash\n"
   ]
  },
  {
   "cell_type": "code",
   "execution_count": null,
   "metadata": {},
   "outputs": [],
   "source": [
    "from models import save_model\n",
    "\n",
    "save_model(model,'pushfold4')"
   ]
  },
  {
   "cell_type": "code",
   "execution_count": null,
   "metadata": {},
   "outputs": [],
   "source": [
    "from models import load\n",
    "\n",
    "model = load('pushfold')"
   ]
  },
  {
   "cell_type": "code",
   "execution_count": null,
   "metadata": {},
   "outputs": [],
   "source": []
  }
 ],
 "metadata": {
  "kernelspec": {
   "display_name": "Python 3",
   "language": "python",
   "name": "python3"
  },
  "language_info": {
   "codemirror_mode": {
    "name": "ipython",
    "version": 3
   },
   "file_extension": ".py",
   "mimetype": "text/x-python",
   "name": "python",
   "nbconvert_exporter": "python",
   "pygments_lexer": "ipython3",
   "version": "3.6.5"
  }
 },
 "nbformat": 4,
 "nbformat_minor": 2
}
