{
 "cells": [
  {
   "cell_type": "code",
   "execution_count": 1,
   "metadata": {},
   "outputs": [
    {
     "name": "stderr",
     "output_type": "stream",
     "text": [
      "Using TensorFlow backend.\n"
     ]
    },
    {
     "name": "stdout",
     "output_type": "stream",
     "text": [
      "_________________________________________________________________\n",
      "Layer (type)                 Output Shape              Param #   \n",
      "=================================================================\n",
      "input (InputLayer)           (None, 233)               0         \n",
      "_________________________________________________________________\n",
      "dense_1 (Dense)              (None, 512)               119808    \n",
      "_________________________________________________________________\n",
      "dense_2 (Dense)              (None, 1024)              525312    \n",
      "_________________________________________________________________\n",
      "dense_3 (Dense)              (None, 512)               524800    \n",
      "_________________________________________________________________\n",
      "dense_4 (Dense)              (None, 4)                 2052      \n",
      "=================================================================\n",
      "Total params: 1,171,972\n",
      "Trainable params: 1,171,972\n",
      "Non-trainable params: 0\n",
      "_________________________________________________________________\n"
     ]
    }
   ],
   "source": [
    "from keras.layers import Input, Dense\n",
    "from keras.models import Model\n",
    "\n",
    "input_all = Input(shape=(233,), name=\"input\")\n",
    "\n",
    "x = Dense(512,activation='relu')(input_all)\n",
    "\n",
    "x = Dense(1024,activation= 'relu')(x)\n",
    "\n",
    "x = Dense(512)(x)\n",
    "\n",
    "out = Dense(4)(x)\n",
    "\n",
    "model = Model(inputs=[input_all], outputs=out)\n",
    "model.compile(optimizer='rmsprop', loss='mse')\n",
    "model.summary()"
   ]
  },
  {
   "cell_type": "code",
   "execution_count": 2,
   "metadata": {},
   "outputs": [
    {
     "name": "stdout",
     "output_type": "stream",
     "text": [
      "yolo\n",
      "1\n",
      "3\n",
      "1\n",
      "3\n",
      "0\n",
      "3\n",
      "0\n",
      "3\n",
      "yolo\n",
      "1\n",
      "4\n",
      "1\n",
      "4\n",
      "0\n",
      "4\n",
      "0\n",
      "4\n",
      "yolo\n",
      "1\n",
      "5\n",
      "1\n",
      "5\n",
      "0\n",
      "5\n",
      "0\n",
      "5\n",
      "[{'type': 'event_round_finish', 'round_state': {'street': 'showdown', 'pot': {'main': {'amount': 40}, 'side': []}, 'community_card': ['H5', 'S4', 'D8', 'H6', 'H9'], 'dealer_btn': 0, 'next_player': 1, 'small_blind_pos': 1, 'big_blind_pos': 0, 'round_count': 1, 'small_blind_amount': 10, 'seats': [{'name': 'bb_player', 'uuid': 'bb_player', 'stack': 520, 'state': 'participating'}, {'name': 'sb_player', 'uuid': 'sb_player', 'stack': 480, 'state': 'participating'}], 'action_histories': {'preflop': [{'action': 'SMALLBLIND', 'amount': 10, 'add_amount': 10, 'uuid': 'sb_player'}, {'action': 'BIGBLIND', 'amount': 20, 'add_amount': 10, 'uuid': 'bb_player'}, {'action': 'CALL', 'amount': 20, 'paid': 10, 'uuid': 'sb_player'}, {'action': 'CALL', 'amount': 20, 'paid': 0, 'uuid': 'bb_player'}], 'flop': [{'action': 'CALL', 'amount': 0, 'paid': 0, 'uuid': 'sb_player'}, {'action': 'CALL', 'amount': 0, 'paid': 0, 'uuid': 'bb_player'}], 'turn': [{'action': 'CALL', 'amount': 0, 'paid': 0, 'uuid': 'sb_player'}, {'action': 'CALL', 'amount': 0, 'paid': 0, 'uuid': 'bb_player'}], 'river': [{'action': 'CALL', 'amount': 0, 'paid': 0, 'uuid': 'sb_player'}, {'action': 'CALL', 'amount': 0, 'paid': 0, 'uuid': 'bb_player'}]}}, 'winners': [{'uuid': 'bb_player', 'stack': 520}]}]\n",
      "round 0\n",
      "Won(SB): -20   Total won (SB): -20\n",
      "Replay size: 0\n",
      "[[-0.00669024  0.07185405 -0.05250338  0.06624953]]\n",
      "{'bb_player': ['C6', 'S8'], 'sb_player': ['CA', 'S9']}\n",
      "preflop\n",
      "sb_player SMALLBLIND 10\n",
      "bb_player BIGBLIND 20\n",
      "sb_player CALL 20\n",
      "bb_player CALL 20\n",
      "flop\n",
      "sb_player checks\n",
      "bb_player checks\n",
      "turn\n",
      "sb_player checks\n",
      "bb_player checks\n",
      "river\n",
      "sb_player checks\n",
      "bb_player checks\n",
      "\n",
      "yolo\n",
      "1\n",
      "3\n",
      "1\n",
      "3\n",
      "0\n",
      "3\n",
      "0\n",
      "3\n",
      "yolo\n",
      "1\n",
      "4\n",
      "1\n",
      "4\n",
      "0\n",
      "4\n",
      "0\n",
      "4\n",
      "yolo\n",
      "1\n",
      "5\n",
      "1\n",
      "5\n",
      "0\n",
      "5\n",
      "0\n",
      "5\n",
      "[{'type': 'event_round_finish', 'round_state': {'street': 'showdown', 'pot': {'main': {'amount': 40}, 'side': []}, 'community_card': ['H9', 'S7', 'H7', 'DA', 'ST'], 'dealer_btn': 0, 'next_player': 1, 'small_blind_pos': 1, 'big_blind_pos': 0, 'round_count': 1, 'small_blind_amount': 10, 'seats': [{'name': 'bb_player', 'uuid': 'bb_player', 'stack': 500, 'state': 'participating'}, {'name': 'sb_player', 'uuid': 'sb_player', 'stack': 500, 'state': 'participating'}], 'action_histories': {'preflop': [{'action': 'SMALLBLIND', 'amount': 10, 'add_amount': 10, 'uuid': 'sb_player'}, {'action': 'BIGBLIND', 'amount': 20, 'add_amount': 10, 'uuid': 'bb_player'}, {'action': 'CALL', 'amount': 20, 'paid': 10, 'uuid': 'sb_player'}, {'action': 'CALL', 'amount': 20, 'paid': 0, 'uuid': 'bb_player'}], 'flop': [{'action': 'CALL', 'amount': 0, 'paid': 0, 'uuid': 'sb_player'}, {'action': 'CALL', 'amount': 0, 'paid': 0, 'uuid': 'bb_player'}], 'turn': [{'action': 'CALL', 'amount': 0, 'paid': 0, 'uuid': 'sb_player'}, {'action': 'CALL', 'amount': 0, 'paid': 0, 'uuid': 'bb_player'}], 'river': [{'action': 'CALL', 'amount': 0, 'paid': 0, 'uuid': 'sb_player'}, {'action': 'CALL', 'amount': 0, 'paid': 0, 'uuid': 'bb_player'}]}}, 'winners': [{'uuid': 'bb_player', 'stack': 500}, {'uuid': 'sb_player', 'stack': 500}]}]\n"
     ]
    }
   ],
   "source": [
    "from emulator import CustomEmulator\n",
    "import numpy as np\n",
    "\n",
    "emul = CustomEmulator(500,10)\n",
    "num_hands = 2\n",
    "total_reward = 0\n",
    "y = .99\n",
    "e = 0.1\n",
    "\n",
    "old_state = np.zeros((233))\n",
    "targetQ = np.zeros((4))\n",
    "replay_state = []\n",
    "replay_Q = []\n",
    "max_replay = 10000\n",
    "\n",
    "bankroll_sb = [0]\n",
    "bankroll_player1 = [0]\n",
    "player1 = True\n",
    "\n",
    "for i in range(num_hands):\n",
    "    reward_sb = 0\n",
    "    reward_bb = 0\n",
    "    #Starts with dealer\n",
    "    is_sb_turn = True\n",
    "    \n",
    "    sb_has_played = False\n",
    "    bb_has_played = False\n",
    "  \n",
    "    emul.new_hand()\n",
    "    #while hand is still at play\n",
    "    while(emul.is_round_finished() == False):\n",
    "           \n",
    "        emul.make_features()\n",
    "        if(is_sb_turn == True):\n",
    "            #save old state to update it asap with new rew\n",
    "            if(sb_has_played == True):\n",
    "                old_state_sb = sb_features\n",
    "                targetQ = allQ_sb\n",
    "                \n",
    "                ##tochange\n",
    "            sb_features = np.concatenate([emul.players_cards[1], np.concatenate(\n",
    "    emul.cards_feature), np.concatenate(emul.actions_feature),np.array([1])]).reshape((1,233))\n",
    "            \n",
    "            #run model to choose action\n",
    "            allQ_sb = model.predict(sb_features)\n",
    "            action_sb = np.argmax(allQ_sb)\n",
    "            #print(allQ_sb)\n",
    "            \n",
    "            #randomly discover new line\n",
    "            if(np.random.rand(1) < e):\n",
    "                action_sb = np.random.randint(0,4)\n",
    "\n",
    "            emul.play_action(1)\n",
    "                \n",
    "            \n",
    "            if(sb_has_played == True):\n",
    "                targetQ[0,action_sb] = y*np.max(allQ_sb)\n",
    "                #replay_state.append(old_state.reshape((233,)))\n",
    "                #replay_Q.append(targetQ.reshape((4,)))\n",
    "\n",
    "            sb_has_played = True\n",
    "            is_sb_turn = False\n",
    "            old_state_sb = sb_features\n",
    "        else:\n",
    "            if(bb_has_played == True):\n",
    "                old_state_bb = bb_features\n",
    "                targetQ = allQ_bb\n",
    "                \n",
    "            bb_features = np.concatenate([emul.players_cards[0], np.concatenate(\n",
    "    emul.cards_feature), np.concatenate(emul.actions_feature),np.array([0])]).reshape((1,233))\n",
    "            \n",
    "            allQ_bb = model.predict(bb_features)\n",
    "            action_bb = np.argmax(allQ_bb)\n",
    "            \n",
    "            if(np.random.rand(1) < e):\n",
    "                action_bb = np.random.randint(0,4)\n",
    "                \n",
    "            emul.play_action(1)        \n",
    "            \n",
    "            if(bb_has_played == True):\n",
    "                targetQ[0,action_bb] = y*np.max(allQ_bb)\n",
    "                #replay_state.append(old_state.reshape((233,)))\n",
    "                #replay_Q.append(targetQ.reshape((4,)))\n",
    "\n",
    "\n",
    "            bb_has_played = True\n",
    "            is_sb_turn = True\n",
    "            old_state_bb = bb_features\n",
    "                        \n",
    "    r  = emul.get_sb_reward()\n",
    "    total_reward +=r\n",
    "    bankroll_sb.append(bankroll_sb[-1]+r)\n",
    "    print(emul.events)\n",
    "    if player1 == True:\n",
    "        player1 = False\n",
    "        bankroll_player1.append(bankroll_player1[-1]+r)\n",
    "    else:\n",
    "        player1 = True\n",
    "        bankroll_player1.append(bankroll_player1[-1]-r)\n",
    "    \n",
    "    if(i%2000 == 0 and i > 10):\n",
    "         #fit on replay\n",
    "        model.fit(np.stack(replay_state),np.stack(replay_Q),verbose=1)\n",
    "    \n",
    "    if(i%2000== 0):\n",
    "        print('round',i)\n",
    "        print('Won(SB):',r,'  Total won (SB):',total_reward)\n",
    "        print('Replay size:',len(replay_state))\n",
    "        print(allQ_sb)\n",
    "        print(emul.get_action_histories_text(hole_cards = True))\n",
    "\n",
    "    allQ_sb[0,action_sb] = r\n",
    "\n",
    "    replay_state.append(old_state_sb.reshape((233,)))\n",
    "    replay_Q.append(allQ_sb.reshape((4,)))\n",
    "    \n",
    "    if(bb_has_played):   \n",
    "        allQ_bb[0,action_bb] = -r\n",
    "        replay_state.append(old_state_bb.reshape((233,)))\n",
    "        replay_Q.append(allQ_bb.reshape((4,)))\n",
    "    \n",
    "\n",
    "    if(len(replay_state) > max_replay):\n",
    "        replay_state = replay_state[50:]\n",
    "        replay_Q = replay_Q[50:]\n",
    "\n",
    "            "
   ]
  },
  {
   "cell_type": "code",
   "execution_count": 3,
   "metadata": {},
   "outputs": [],
   "source": [
    "import seaborn as sns\n",
    "import matplotlib.pyplot as plt\n"
   ]
  },
  {
   "cell_type": "code",
   "execution_count": 4,
   "metadata": {},
   "outputs": [
    {
     "data": {
      "text/plain": [
       "[<matplotlib.lines.Line2D at 0x2406d9c1d30>]"
      ]
     },
     "execution_count": 4,
     "metadata": {},
     "output_type": "execute_result"
    },
    {
     "data": {
      "image/png": "[encoded data removed]",
      "text/plain": [
       "<Figure size 432x288 with 1 Axes>"
      ]
     },
     "metadata": {},
     "output_type": "display_data"
    }
   ],
   "source": [
    "%matplotlib inline\n",
    "\n",
    "plt.plot(bankroll_player1)\n"
   ]
  },
  {
   "cell_type": "code",
   "execution_count": 5,
   "metadata": {},
   "outputs": [
    {
     "data": {
      "text/plain": [
       "[<matplotlib.lines.Line2D at 0x2406da6d898>]"
      ]
     },
     "execution_count": 5,
     "metadata": {},
     "output_type": "execute_result"
    },
    {
     "data": {
      "image/png": "[encoded data removed]",
      "text/plain": [
       "<Figure size 432x288 with 1 Axes>"
      ]
     },
     "metadata": {},
     "output_type": "display_data"
    }
   ],
   "source": [
    "plt.plot(bankroll_sb)"
   ]
  },
  {
   "cell_type": "code",
   "execution_count": null,
   "metadata": {},
   "outputs": [],
   "source": []
  }
 ],
 "metadata": {
  "kernelspec": {
   "display_name": "Python 3",
   "language": "python",
   "name": "python3"
  },
  "language_info": {
   "codemirror_mode": {
    "name": "ipython",
    "version": 3
   },
   "file_extension": ".py",
   "mimetype": "text/x-python",
   "name": "python",
   "nbconvert_exporter": "python",
   "pygments_lexer": "ipython3",
   "version": "3.6.5"
  }
 },
 "nbformat": 4,
 "nbformat_minor": 2
}
