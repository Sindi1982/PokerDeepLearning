{
 "cells": [
  {
   "cell_type": "code",
   "execution_count": 1,
   "metadata": {},
   "outputs": [
    {
     "name": "stderr",
     "output_type": "stream",
     "text": [
      "Using TensorFlow backend.\n"
     ]
    },
    {
     "name": "stdout",
     "output_type": "stream",
     "text": [
      "_________________________________________________________________\n",
      "Layer (type)                 Output Shape              Param #   \n",
      "=================================================================\n",
      "input (InputLayer)           (None, 16)                0         \n",
      "_________________________________________________________________\n",
      "dense_1 (Dense)              (None, 32)                544       \n",
      "_________________________________________________________________\n",
      "dense_2 (Dense)              (None, 64)                2112      \n",
      "_________________________________________________________________\n",
      "dense_3 (Dense)              (None, 16)                1040      \n",
      "_________________________________________________________________\n",
      "dense_4 (Dense)              (None, 2)                 34        \n",
      "=================================================================\n",
      "Total params: 3,730\n",
      "Trainable params: 3,730\n",
      "Non-trainable params: 0\n",
      "_________________________________________________________________\n"
     ]
    }
   ],
   "source": [
    "from models import preflop_model\n",
    "\n",
    "model = preflop_model()\n",
    "model.summary()\n",
    "\n"
   ]
  },
  {
   "cell_type": "code",
   "execution_count": 12,
   "metadata": {},
   "outputs": [
    {
     "name": "stdout",
     "output_type": "stream",
     "text": [
      "\n",
      "\n",
      "round 5000\n",
      "Won(SB): 20   Total won (SB): -14730\n",
      "SB pushed 34% , BB called 23%\n",
      "sb_features\n",
      "[[0.   0.   0.   0.   0.   1.   0.   0.   1.   0.   0.   0.   0.   1.\n",
      "  1.   0.17]]\n",
      "allQ_sb:\n",
      "[[-8.69102 20.     ]]\n",
      "\n",
      "bb_features\n",
      "[[0.   0.   0.   1.   0.   1.   0.   0.   0.   0.   0.   0.   0.   1.\n",
      "  0.   0.17]]\n",
      "allQ_bb:\n",
      "[[-20.      -39.09718]]\n",
      "{'bb_player': ['D5', 'D7'], 'sb_player': ['HT', 'H7']}\n",
      "preflop\n",
      "sb_player SMALLBLIND 10\n",
      "bb_player BIGBLIND 20\n",
      "sb_player raises to 68\n",
      "bb_player folds\n",
      "\n",
      "Epoch 1/5\n",
      "6707/6707 [==============================] - 0s 19us/step - loss: 3274.9554\n",
      "Epoch 2/5\n",
      "6707/6707 [==============================] - 0s 19us/step - loss: 3256.8315\n",
      "Epoch 3/5\n",
      "6707/6707 [==============================] - 0s 20us/step - loss: 3238.2022\n",
      "Epoch 4/5\n",
      "6707/6707 [==============================] - 0s 21us/step - loss: 3238.8974\n",
      "Epoch 5/5\n",
      "6707/6707 [==============================] - 0s 20us/step - loss: 3225.9868\n",
      "\n",
      "\n",
      "round 10000\n",
      "Won(SB): 20   Total won (SB): -32810\n",
      "SB pushed 31% , BB called 21%\n",
      "sb_features\n",
      "[[0.     0.     0.     0.     0.     0.     0.     0.     0.     1.\n",
      "  1.     0.     0.     1.     1.     0.5975]]\n",
      "allQ_sb:\n",
      "[[-8.1602955 20.       ]]\n",
      "\n",
      "bb_features\n",
      "[[0.     0.     0.     1.     0.     0.     0.     0.     0.     0.\n",
      "  0.     1.     0.     0.     0.     0.5975]]\n",
      "allQ_bb:\n",
      "[[-20.       -40.909298]]\n",
      "{'bb_player': ['C5', 'HK'], 'sb_player': ['CQ', 'CJ']}\n",
      "preflop\n",
      "sb_player SMALLBLIND 10\n",
      "bb_player BIGBLIND 20\n",
      "sb_player raises to 239\n",
      "bb_player folds\n",
      "\n",
      "Epoch 1/5\n",
      "13194/13194 [==============================] - 0s 21us/step - loss: 3032.4857\n",
      "Epoch 2/5\n",
      "13194/13194 [==============================] - 0s 22us/step - loss: 3023.0850\n",
      "Epoch 3/5\n",
      "13194/13194 [==============================] - 0s 21us/step - loss: 3020.4488\n",
      "Epoch 4/5\n",
      "13194/13194 [==============================] - 0s 21us/step - loss: 3013.2582\n",
      "Epoch 5/5\n",
      "13194/13194 [==============================] - 0s 21us/step - loss: 3007.0903\n",
      "\n",
      "\n",
      "round 15000\n",
      "Won(SB): 20   Total won (SB): -46030\n",
      "SB pushed 31% , BB called 20%\n",
      "sb_features\n",
      "[[0.     0.     0.     0.     0.     0.     0.     1.     0.     1.\n",
      "  0.     0.     0.     1.     1.     0.2125]]\n",
      "allQ_sb:\n",
      "[[-6.4183435 20.       ]]\n",
      "\n",
      "bb_features\n",
      "[[0.     0.     1.     0.     0.     0.     0.     0.     1.     0.\n",
      "  0.     0.     0.     1.     0.     0.2125]]\n",
      "allQ_bb:\n",
      "[[-20.       -47.036854]]\n",
      "{'bb_player': ['H4', 'HT'], 'sb_player': ['D9', 'DJ']}\n",
      "preflop\n",
      "sb_player SMALLBLIND 10\n",
      "bb_player BIGBLIND 20\n",
      "sb_player raises to 85\n",
      "bb_player folds\n",
      "\n",
      "Epoch 1/5\n",
      "19713/19713 [==============================] - 0s 19us/step - loss: 2844.4974\n",
      "Epoch 2/5\n",
      "19713/19713 [==============================] - 0s 19us/step - loss: 2841.2911\n",
      "Epoch 3/5\n",
      "19713/19713 [==============================] - 0s 19us/step - loss: 2836.6174\n",
      "Epoch 4/5\n",
      "19713/19713 [==============================] - 0s 20us/step - loss: 2837.9753\n",
      "Epoch 5/5\n",
      "19713/19713 [==============================] - 0s 20us/step - loss: 2837.4002\n"
     ]
    }
   ],
   "source": [
    "from pushfold import PushFoldEmulator\n",
    "\n",
    "import numpy as np\n",
    "\n",
    "emul = PushFoldEmulator(200,10)\n",
    "num_hands =20000\n",
    "total_reward = 0\n",
    "\n",
    "e = 0.1\n",
    "loss = []\n",
    "\n",
    "sb_pushed_plt = []\n",
    "bb_called_plt = []\n",
    "\n",
    "state_sb = np.zeros((16))\n",
    "state_bb = np.zeros((16))\n",
    "\n",
    "targetQ = np.zeros((2))\n",
    "\n",
    "bankroll_sb = [0]\n",
    "player1 = True\n",
    "\n",
    "replay_state = []\n",
    "replay_Q = []\n",
    "max_replay = 30000\n",
    "\n",
    "sb_pushed = 0\n",
    "bb_called = 0\n",
    "\n",
    "\n",
    "for i in range(num_hands):\n",
    "    reward_sb = 0\n",
    "    reward_bb = 0\n",
    "\n",
    "  \n",
    "    emul.new_hand(np.random.randint(40,400))\n",
    "\n",
    "    emul.get_hand_feature()\n",
    "\n",
    "    sb_features = np.concatenate([emul.players_cards[1],np.array([emul.suited[1],1,emul.starting_stack/400])]).reshape((1,16))\n",
    "    bb_features = np.concatenate([emul.players_cards[0],np.array([emul.suited[0],0,emul.starting_stack/400])]).reshape((1,16))\n",
    "    \n",
    "    replay_state.append(sb_features.reshape((16,)))\n",
    "    \n",
    "    \n",
    "    #run model to choose action\n",
    "    allQ_sb = model.predict(sb_features)\n",
    "    action_sb = np.argmax(allQ_sb)\n",
    "    allQ_bb = model.predict(bb_features)\n",
    "    action_bb = np.argmax(allQ_bb)\n",
    "\n",
    "    #randomly discover new line\n",
    "    if(np.random.rand(1) < e):\n",
    "\n",
    "        action_sb = np.random.randint(0,2)\n",
    "        action_bb = np.random.randint(0,2)\n",
    "        \n",
    "    emul.play_action(action_sb)\n",
    "    if action_sb == 1:\n",
    "        sb_pushed +=1\n",
    "    \n",
    "    if emul.is_round_finished() == False:\n",
    "        emul.play_action(action_bb)     \n",
    "        if action_sb == 1:\n",
    "            if action_bb == 1:\n",
    "                bb_called +=1\n",
    "            \n",
    "\n",
    "    r  = emul.get_sb_reward()\n",
    "    total_reward +=r\n",
    "    bankroll_sb.append(bankroll_sb[-1]+r)\n",
    "    \n",
    "    allQ_sb[0,action_sb] = r\n",
    "    replay_Q.append(allQ_sb.reshape((2,)))\n",
    "    \n",
    "    #train only if sb played. otherwise positive reward for folding\n",
    "    if action_sb == 1:\n",
    "        replay_state.append(bb_features.reshape((16,)))\n",
    "        allQ_bb[0,action_bb] = -r\n",
    "        replay_Q.append(allQ_bb.reshape((2,)))\n",
    "    \n",
    "\n",
    "    if(i%5000== 0 and i > 0):\n",
    "        sb_pushed_pct = int(sb_pushed/(i+1)*100)\n",
    "        sb_pushed_plt.append(sb_pushed_pct)\n",
    "        bb_called_pct = int(bb_called/(sb_pushed+1)*100)\n",
    "        bb_called_plt.append(bb_called_pct)\n",
    "        print('\\n\\nround',i)\n",
    "        print('Won(SB):',r,'  Total won (SB):',total_reward)\n",
    "        print('SB pushed ' + str(sb_pushed_pct)+'% , BB called '+  str(bb_called_pct)+'%' )\n",
    "        print('sb_features')\n",
    "        print(sb_features)\n",
    "        print('allQ_sb:')\n",
    "        print(allQ_sb)\n",
    "        print('\\nbb_features')\n",
    "        print(bb_features)\n",
    "        print('allQ_bb:')   \n",
    "        print(allQ_bb)\n",
    "        \n",
    "        print(emul.get_action_histories_text(hole_cards = True))\n",
    "                \n",
    "        model.fit(np.stack(replay_state),np.stack(replay_Q),verbose=1,epochs=5)\n",
    "\n",
    "\n",
    "    if(len(replay_state) > max_replay):\n",
    "        replay_state = replay_state[50:]\n",
    "        replay_Q = replay_Q[50:]\n"
   ]
  },
  {
   "cell_type": "code",
   "execution_count": 3,
   "metadata": {},
   "outputs": [
    {
     "data": {
      "text/plain": [
       "[<matplotlib.lines.Line2D at 0x7f193199a320>]"
      ]
     },
     "execution_count": 3,
     "metadata": {},
     "output_type": "execute_result"
    },
    {
     "data": {
      "image/png": "[encoded data removed]",
      "text/plain": [
       "<Figure size 432x288 with 1 Axes>"
      ]
     },
     "metadata": {
      "needs_background": "light"
     },
     "output_type": "display_data"
    }
   ],
   "source": [
    "%matplotlib inline\n",
    "import seaborn as sns\n",
    "import matplotlib.pyplot as plt\n",
    "\n",
    "plt.plot(sb_pushed_plt[1:])\n",
    "plt.plot(bb_called_plt[1:])"
   ]
  },
  {
   "cell_type": "code",
   "execution_count": 17,
   "metadata": {},
   "outputs": [],
   "source": [
    "from metrics import compute_nash_pusher\n",
    "from metrics import compute_nash_caller\n",
    "call_nash = compute_nash_caller(model)\n",
    "push_chart = compute_nash_pusher(model)"
   ]
  },
  {
   "cell_type": "code",
   "execution_count": 18,
   "metadata": {},
   "outputs": [
    {
     "data": {
      "text/plain": [
       "<matplotlib.axes._subplots.AxesSubplot at 0x7f18d73e8828>"
      ]
     },
     "execution_count": 18,
     "metadata": {},
     "output_type": "execute_result"
    },
    {
     "data": {
      "image/png": "[encoded data removed]",
      "text/plain": [
       "<Figure size 432x288 with 2 Axes>"
      ]
     },
     "metadata": {
      "needs_background": "light"
     },
     "output_type": "display_data"
    }
   ],
   "source": [
    "sns.heatmap(push_chart)"
   ]
  },
  {
   "cell_type": "code",
   "execution_count": 19,
   "metadata": {},
   "outputs": [
    {
     "data": {
      "text/plain": [
       "<matplotlib.axes._subplots.AxesSubplot at 0x7f18d65122e8>"
      ]
     },
     "execution_count": 19,
     "metadata": {},
     "output_type": "execute_result"
    },
    {
     "data": {
      "image/png": "[encoded data removed]",
      "text/plain": [
       "<Figure size 432x288 with 2 Axes>"
      ]
     },
     "metadata": {
      "needs_background": "light"
     },
     "output_type": "display_data"
    }
   ],
   "source": [
    "sns.heatmap(call_nash)"
   ]
  },
  {
   "cell_type": "code",
   "execution_count": null,
   "metadata": {},
   "outputs": [],
   "source": [
    "call_nash\n"
   ]
  },
  {
   "cell_type": "code",
   "execution_count": null,
   "metadata": {},
   "outputs": [],
   "source": [
    "from models import save_model\n",
    "\n",
    "save_model(model,'pushfold4')"
   ]
  },
  {
   "cell_type": "code",
   "execution_count": 16,
   "metadata": {},
   "outputs": [],
   "source": [
    "from models import load\n",
    "\n",
    "model = load('pushfold')"
   ]
  },
  {
   "cell_type": "code",
   "execution_count": null,
   "metadata": {},
   "outputs": [],
   "source": []
  }
 ],
 "metadata": {
  "kernelspec": {
   "display_name": "Python 3",
   "language": "python",
   "name": "python3"
  },
  "language_info": {
   "codemirror_mode": {
    "name": "ipython",
    "version": 3
   },
   "file_extension": ".py",
   "mimetype": "text/x-python",
   "name": "python",
   "nbconvert_exporter": "python",
   "pygments_lexer": "ipython3",
   "version": "3.6.6"
  }
 },
 "nbformat": 4,
 "nbformat_minor": 2
}
