{
 "cells": [
  {
   "cell_type": "code",
   "execution_count": null,
   "metadata": {},
   "outputs": [],
   "source": [
    "from models import preflop_model\n",
    "\n",
    "model = preflop_model()\n",
    "model.summary()\n",
    "\n"
   ]
  },
  {
   "cell_type": "code",
   "execution_count": null,
   "metadata": {},
   "outputs": [],
   "source": [
    "from pushfold import PushFoldEmulator\n",
    "\n",
    "import numpy as np\n",
    "\n",
    "emul = PushFoldEmulator(200,10)\n",
    "num_hands =500000\n",
    "total_reward = 0\n",
    "\n",
    "e = 0.10\n",
    "loss = []\n",
    "\n",
    "sb_pushed_plt = []\n",
    "bb_called_plt = []\n",
    "\n",
    "state_sb = np.zeros((16))\n",
    "state_bb = np.zeros((16))\n",
    "\n",
    "targetQ = np.zeros((2))\n",
    "\n",
    "bankroll_sb = [0]\n",
    "bankroll_player1 = [0]\n",
    "player1 = True\n",
    "\n",
    "replay_state = []\n",
    "replay_Q = []\n",
    "max_replay = 10000\n",
    "\n",
    "sb_pushed = 0\n",
    "bb_called = 0\n",
    "\n",
    "\n",
    "for i in range(num_hands):\n",
    "    reward_sb = 0\n",
    "    reward_bb = 0\n",
    "\n",
    "  \n",
    "    emul.new_hand(np.random.randint(80,400))\n",
    "\n",
    "    emul.get_hand_feature()\n",
    "\n",
    "    sb_features = np.concatenate([emul.players_cards[1],np.array([emul.suited[0],1,emul.starting_stack/400])]).reshape((1,16))\n",
    "    bb_features = np.concatenate([emul.players_cards[0],np.array([emul.suited[1],0,emul.starting_stack/400])]).reshape((1,16))\n",
    "    \n",
    "    replay_state.append(sb_features.reshape((16,)))\n",
    "    \n",
    "    \n",
    "    #run model to choose action\n",
    "    allQ_sb = model.predict(sb_features)\n",
    "    action_sb = np.argmax(allQ_sb)\n",
    "    allQ_bb = model.predict(bb_features)\n",
    "    action_bb = np.argmax(allQ_bb)\n",
    "\n",
    "    #randomly discover new line\n",
    "    if(np.random.rand(1) < e):\n",
    "\n",
    "        action_sb = np.random.randint(0,2)\n",
    "        action_bb = np.random.randint(0,2)\n",
    "        \n",
    "    emul.play_action(action_sb)\n",
    "    if action_sb == 1:\n",
    "        sb_pushed +=1\n",
    "    \n",
    "    if emul.is_round_finished() == False:\n",
    "        emul.play_action(action_bb)     \n",
    "        if action_sb == 1:\n",
    "            if action_bb == 1:\n",
    "                bb_called +=1\n",
    "            \n",
    "\n",
    "    r  = emul.get_sb_reward()\n",
    "    total_reward +=r\n",
    "    bankroll_sb.append(bankroll_sb[-1]+r)\n",
    "    \n",
    "    allQ_sb[0,action_sb] = r\n",
    "    replay_Q.append(allQ_sb.reshape((2,)))\n",
    "    \n",
    "    #train only if sb played. otherwise positive reward for folding\n",
    "    if action_sb == 1:\n",
    "        replay_state.append(bb_features.reshape((16,)))\n",
    "        allQ_bb[0,action_bb] = -r\n",
    "        replay_Q.append(allQ_bb.reshape((2,)))\n",
    "    \n",
    "\n",
    "    if player1 == True:\n",
    "        player1 = False\n",
    "        bankroll_player1.append(bankroll_player1[-1]+r)\n",
    "    else:\n",
    "        player1 = True\n",
    "        bankroll_player1.append(bankroll_player1[-1]-r)\n",
    "\n",
    "    if(i%10000== 0 and i > 0):\n",
    "        sb_pushed_pct = int(sb_pushed/(i+1)*100)\n",
    "        sb_pushed_plt.append(sb_pushed_pct)\n",
    "        bb_called_pct = int(bb_called/(sb_pushed+1)*100)\n",
    "        bb_called_plt.append(bb_called_pct)\n",
    "        print('\\n\\nround',i)\n",
    "        print('Won(SB):',r,'  Total won (SB):',total_reward)\n",
    "        print('SB pushed ' + str(sb_pushed_pct)+'% , BB called '+  str(bb_called_pct)+'%' )\n",
    "        print('sb_features')\n",
    "        print(sb_features)\n",
    "        print('allQ_sb:')\n",
    "        print(allQ_sb)\n",
    "        print('\\nbb_features')\n",
    "        print(bb_features)\n",
    "        print('allQ_bb:')   \n",
    "        print(allQ_bb)\n",
    "        \n",
    "        print(emul.get_action_histories_text(hole_cards = True))\n",
    "        \n",
    "        #print(emul.events)\n",
    "        \n",
    "        model.fit(np.stack(replay_state),np.stack(replay_Q),verbose=1)\n",
    "\n",
    "\n",
    "    if(len(replay_state) > max_replay):\n",
    "        replay_state = replay_state[50:]\n",
    "        replay_Q = replay_Q[50:]\n"
   ]
  },
  {
   "cell_type": "code",
   "execution_count": 2,
   "metadata": {},
   "outputs": [
    {
     "ename": "NameError",
     "evalue": "name 'sb_pushed_plt' is not defined",
     "output_type": "error",
     "traceback": [
      "\u001b[1;31m---------------------------------------------------------------------------\u001b[0m",
      "\u001b[1;31mNameError\u001b[0m                                 Traceback (most recent call last)",
      "\u001b[1;32m<ipython-input-2-74cf8500d618>\u001b[0m in \u001b[0;36m<module>\u001b[1;34m()\u001b[0m\n\u001b[0;32m      3\u001b[0m \u001b[1;32mimport\u001b[0m \u001b[0mmatplotlib\u001b[0m\u001b[1;33m.\u001b[0m\u001b[0mpyplot\u001b[0m \u001b[1;32mas\u001b[0m \u001b[0mplt\u001b[0m\u001b[1;33m\u001b[0m\u001b[0m\n\u001b[0;32m      4\u001b[0m \u001b[1;33m\u001b[0m\u001b[0m\n\u001b[1;32m----> 5\u001b[1;33m \u001b[0mplt\u001b[0m\u001b[1;33m.\u001b[0m\u001b[0mplot\u001b[0m\u001b[1;33m(\u001b[0m\u001b[0msb_pushed_plt\u001b[0m\u001b[1;33m[\u001b[0m\u001b[1;36m1\u001b[0m\u001b[1;33m:\u001b[0m\u001b[1;33m]\u001b[0m\u001b[1;33m)\u001b[0m\u001b[1;33m\u001b[0m\u001b[0m\n\u001b[0m\u001b[0;32m      6\u001b[0m \u001b[0mplt\u001b[0m\u001b[1;33m.\u001b[0m\u001b[0mplot\u001b[0m\u001b[1;33m(\u001b[0m\u001b[0mbb_called_plt\u001b[0m\u001b[1;33m[\u001b[0m\u001b[1;36m1\u001b[0m\u001b[1;33m:\u001b[0m\u001b[1;33m]\u001b[0m\u001b[1;33m)\u001b[0m\u001b[1;33m\u001b[0m\u001b[0m\n",
      "\u001b[1;31mNameError\u001b[0m: name 'sb_pushed_plt' is not defined"
     ]
    }
   ],
   "source": [
    "%matplotlib inline\n",
    "import seaborn as sns\n",
    "import matplotlib.pyplot as plt\n",
    "\n",
    "plt.plot(sb_pushed_plt[1:])\n",
    "plt.plot(bb_called_plt[1:])"
   ]
  },
  {
   "cell_type": "code",
   "execution_count": 3,
   "metadata": {},
   "outputs": [],
   "source": [
    "from metrics import compute_nash_pusher\n",
    "from metrics import compute_nash_caller\n",
    "call_nash = compute_nash_caller(model)\n",
    "push_chart = compute_nash_pusher(model)"
   ]
  },
  {
   "cell_type": "code",
   "execution_count": null,
   "metadata": {},
   "outputs": [],
   "source": [
    "from models import save_model\n",
    "\n",
    "save_model(model,'pushfold')"
   ]
  },
  {
   "cell_type": "code",
   "execution_count": 1,
   "metadata": {},
   "outputs": [
    {
     "name": "stderr",
     "output_type": "stream",
     "text": [
      "Using TensorFlow backend.\n"
     ]
    }
   ],
   "source": [
    "from models import load\n",
    "\n",
    "model = load('pushfold')"
   ]
  },
  {
   "cell_type": "code",
   "execution_count": 4,
   "metadata": {},
   "outputs": [
    {
     "data": {
      "text/plain": [
       "<matplotlib.axes._subplots.AxesSubplot at 0x18661601828>"
      ]
     },
     "execution_count": 4,
     "metadata": {},
     "output_type": "execute_result"
    },
    {
     "data": {
      "image/png": "[encoded data removed]",
      "text/plain": [
       "<Figure size 432x288 with 2 Axes>"
      ]
     },
     "metadata": {},
     "output_type": "display_data"
    }
   ],
   "source": [
    "sns.heatmap(push_chart)"
   ]
  },
  {
   "cell_type": "code",
   "execution_count": 6,
   "metadata": {},
   "outputs": [
    {
     "data": {
      "text/plain": [
       "<matplotlib.axes._subplots.AxesSubplot at 0x18661a55048>"
      ]
     },
     "execution_count": 6,
     "metadata": {},
     "output_type": "execute_result"
    },
    {
     "data": {
      "image/png": "[encoded data removed]",
      "text/plain": [
       "<Figure size 432x288 with 2 Axes>"
      ]
     },
     "metadata": {},
     "output_type": "display_data"
    }
   ],
   "source": [
    "sns.heatmap(call_nash)"
   ]
  },
  {
   "cell_type": "code",
   "execution_count": 7,
   "metadata": {},
   "outputs": [
    {
     "data": {
      "text/plain": [
       "array([[ 20. ,  20. ,  20. ,  20. ,  20. ,  20. ,  20. ,  20. ,  20. ,\n",
       "         20. ,  20. ,  20. ,  20. ],\n",
       "       [ 20. ,  20. ,  20. ,  20. ,  20. ,  20. ,  13.5,  10.1,   5.7,\n",
       "          5.9,   1.4,   1.1,   1.1],\n",
       "       [ 20. ,  20. ,  20. ,  20. ,  20. ,  20. ,   7.3,   3.4,   2.7,\n",
       "          3.3,   1.5,   1.1,   1.1],\n",
       "       [ 20. ,  20. ,  20. ,  20. ,  20. ,   9.3,   1.1,   4.1,   1.1,\n",
       "          1.1,   1.1,   1.1,   1.1],\n",
       "       [ 20. ,  20. ,  20. ,  20. ,  20. ,  11. ,   1.9,   4.2,   1.1,\n",
       "          1.1,   1.1,   1.1,   1.1],\n",
       "       [ 20. ,  20. ,  20. ,   7.9,   9.7,  20. ,   1.1,   4. ,   1.1,\n",
       "          1.1,   1.1,   1.1,   1.1],\n",
       "       [ 20. ,  20. ,   8.6,   6.1,   7.8,   3.2,  20. ,   1.8,   1.1,\n",
       "          1.1,   1.1,   1.1,   1.1],\n",
       "       [ 20. ,  14. ,   3.2,   6.4,   6.9,   6. ,   3.7,  20. ,   1.1,\n",
       "          1.1,   1.1,   1.1,   1.1],\n",
       "       [ 20. ,   4.7,   2.5,   1.1,   1.1,   1.1,   1.1,   1.1,  20. ,\n",
       "          1.1,   1.1,   1.1,   1.1],\n",
       "       [ 20. ,   5.1,   3.1,   1.1,   1.1,   1.1,   1.1,   1.1,   1.1,\n",
       "         20. ,   1.1,   1.1,   1.1],\n",
       "       [ 20. ,   1.2,   1.1,   1.1,   1.1,   1.1,   1.1,   1.1,   1.1,\n",
       "          1.1,  20. ,   1.1,   1.1],\n",
       "       [ 20. ,   1.1,   1.1,   1.1,   1.1,   1.1,   1.1,   1.1,   1.1,\n",
       "          1.1,   1.1,   7. ,   1.1],\n",
       "       [ 17.1,   1.1,   1.1,   1.1,   1.1,   1.1,   1.1,   1.1,   1.1,\n",
       "          1.1,   1.1,   1.1,   7.2]])"
      ]
     },
     "execution_count": 7,
     "metadata": {},
     "output_type": "execute_result"
    }
   ],
   "source": [
    "call_nash"
   ]
  },
  {
   "cell_type": "code",
   "execution_count": null,
   "metadata": {},
   "outputs": [],
   "source": []
  }
 ],
 "metadata": {
  "kernelspec": {
   "display_name": "Python 3",
   "language": "python",
   "name": "python3"
  },
  "language_info": {
   "codemirror_mode": {
    "name": "ipython",
    "version": 3
   },
   "file_extension": ".py",
   "mimetype": "text/x-python",
   "name": "python",
   "nbconvert_exporter": "python",
   "pygments_lexer": "ipython3",
   "version": "3.6.5"
  }
 },
 "nbformat": 4,
 "nbformat_minor": 2
}
