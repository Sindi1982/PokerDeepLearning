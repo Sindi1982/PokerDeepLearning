{
 "cells": [
  {
   "cell_type": "code",
   "execution_count": 1,
   "metadata": {},
   "outputs": [
    {
     "name": "stderr",
     "output_type": "stream",
     "text": [
      "Using TensorFlow backend.\n"
     ]
    },
    {
     "name": "stdout",
     "output_type": "stream",
     "text": [
      "_________________________________________________________________\n",
      "Layer (type)                 Output Shape              Param #   \n",
      "=================================================================\n",
      "input (InputLayer)           (None, 16)                0         \n",
      "_________________________________________________________________\n",
      "dense_1 (Dense)              (None, 32)                544       \n",
      "_________________________________________________________________\n",
      "dense_2 (Dense)              (None, 64)                2112      \n",
      "_________________________________________________________________\n",
      "dense_3 (Dense)              (None, 16)                1040      \n",
      "_________________________________________________________________\n",
      "dense_4 (Dense)              (None, 2)                 34        \n",
      "=================================================================\n",
      "Total params: 3,730\n",
      "Trainable params: 3,730\n",
      "Non-trainable params: 0\n",
      "_________________________________________________________________\n"
     ]
    }
   ],
   "source": [
    "from models import preflop_model\n",
    "\n",
    "model = preflop_model()\n",
    "model.summary()"
   ]
  },
  {
   "cell_type": "code",
   "execution_count": 2,
   "metadata": {},
   "outputs": [],
   "source": [
    "from engine import Engine\n",
    "from treys import Card\n",
    "import numpy as np\n",
    "from constants import Actions\n",
    "\n",
    "engine = Engine()\n"
   ]
  },
  {
   "cell_type": "code",
   "execution_count": 8,
   "metadata": {},
   "outputs": [
    {
     "name": "stdout",
     "output_type": "stream",
     "text": [
      "0\n",
      "reward: 20\n",
      "1\n",
      "reward: -10\n",
      "1\n",
      "reward: -10\n",
      "1\n",
      "reward: -10\n",
      "0\n",
      "reward: 20\n",
      "0\n",
      "reward: 338\n",
      "1\n",
      "reward: -10\n",
      "1\n",
      "reward: -10\n",
      "1\n",
      "reward: -10\n",
      "1\n",
      "reward: -10\n"
     ]
    }
   ],
   "source": [
    "num_hands = 10\n",
    "total_reward = 0\n",
    "\n",
    "e = 0.1\n",
    "loss = []\n",
    "\n",
    "sb_pushed_plt = []\n",
    "bb_called_plt = []\n",
    "\n",
    "state_sb = np.zeros((16))\n",
    "state_bb = np.zeros((16))\n",
    "\n",
    "targetQ = np.zeros((2))\n",
    "\n",
    "bankroll_sb = [0]\n",
    "player1 = True\n",
    "\n",
    "replay_state = []\n",
    "replay_Q = []\n",
    "max_replay = 30000\n",
    "\n",
    "sb_pushed = 0\n",
    "bb_called = 0\n",
    "\n",
    "\n",
    "for i in range(num_hands):\n",
    "    reward_sb = 0\n",
    "    reward_bb = 0\n",
    "\n",
    "  \n",
    "    engine.new_hand(starting_stack=np.random.randint(40,400))\n",
    "\n",
    "    sb_features = np.concatenate([engine.get_pocket_cards_features(0),np.array([engine.has_suited_pockets(0),1,engine.starting_stack/400])]).reshape((1,16))\n",
    "    bb_features = np.concatenate([engine.get_pocket_cards_features(1),np.array([engine.has_suited_pockets(1),0,engine.starting_stack/400])]).reshape((1,16))\n",
    "\n",
    "    replay_state.append(sb_features.reshape((16,)))\n",
    "    \n",
    "    \n",
    "    #run model to choose action\n",
    "    allQ_sb = model.predict(sb_features)\n",
    "    action_sb = np.argmax(allQ_sb)\n",
    "    allQ_bb = model.predict(bb_features)\n",
    "    action_bb = np.argmax(allQ_bb)\n",
    "\n",
    "    #randomly discover new line\n",
    "    if(np.random.rand(1) < e):\n",
    "\n",
    "        action_sb = np.random.randint(0,2)\n",
    "        action_bb = np.random.randint(0,2)\n",
    "        \n",
    "\n",
    "    if action_sb == 1:\n",
    "        sb_pushed +=1\n",
    "        engine.play_action(Actions.BET,engine.get_bet_range()[1])\n",
    "    \n",
    "        \n",
    "        if action_bb == 1:\n",
    "            bb_called +=1\n",
    "            engine.play_action(Actions.CALL, 0)  \n",
    "        else:\n",
    "            engine.play_action(Actions.FOLD,0)\n",
    "\n",
    "    else:\n",
    "        engine.play_action(Actions.FOLD,0)\n",
    "    \n",
    "\n",
    "    if engine.winner != 2:\n",
    "        r = engine.get_sb_won()\n",
    "\n",
    "    else:\n",
    "        print('not fichished walla')\n",
    "    total_reward +=r\n",
    "    bankroll_sb.append(bankroll_sb[-1]+r)\n",
    "    \n",
    "    allQ_sb[0,action_sb] = r\n",
    "    replay_Q.append(allQ_sb.reshape((2,)))\n",
    "    \n",
    "    #train only if sb played. otherwise positive reward for folding\n",
    "    if action_sb == 1:\n",
    "        replay_state.append(bb_features.reshape((16,)))\n",
    "        allQ_bb[0,action_bb] = -r\n",
    "        replay_Q.append(allQ_bb.reshape((2,)))\n",
    "    \n",
    "    if(i%500 == 0 and i > 0):\n",
    "        print(i)\n",
    "\n",
    "    if(i%500== 0 and i > 0):\n",
    "        sb_pushed_pct = int(sb_pushed/(i+1)*100)\n",
    "        sb_pushed_plt.append(sb_pushed_pct)\n",
    "        bb_called_pct = int(bb_called/(sb_pushed+1)*100)\n",
    "        bb_called_plt.append(bb_called_pct)\n",
    "        print('\\n\\nround',i)\n",
    "        print('Won(SB):',r,'  Total won (SB):',total_reward)\n",
    "        print('SB pushed ' + str(sb_pushed_pct)+'% , BB called '+  str(bb_called_pct)+'%' )\n",
    "        print('sb_features')\n",
    "        print(sb_features)\n",
    "        print('allQ_sb:')\n",
    "        print(allQ_sb)\n",
    "        print('\\nbb_features')\n",
    "        print(bb_features)\n",
    "        print('allQ_bb:')   \n",
    "        print(allQ_bb)\n",
    "        \n",
    "                \n",
    "        model.fit(np.stack(replay_state),np.stack(replay_Q),verbose=1,epochs=5)\n",
    "\n",
    "\n",
    "    if(len(replay_state) > max_replay):\n",
    "        replay_state = replay_state[50:]\n",
    "        replay_Q = replay_Q[50:]\n"
   ]
  },
  {
   "cell_type": "code",
   "execution_count": null,
   "metadata": {},
   "outputs": [],
   "source": [
    "%matplotlib inline\n",
    "import seaborn as sns\n",
    "import matplotlib.pyplot as plt\n",
    "\n",
    "plt.plot(sb_pushed_plt[1:])\n",
    "plt.plot(bb_called_plt[1:])"
   ]
  },
  {
   "cell_type": "code",
   "execution_count": null,
   "metadata": {},
   "outputs": [],
   "source": [
    "from metrics import compute_nash_pusher\n",
    "from metrics import compute_nash_caller\n",
    "call_nash = compute_nash_caller(model)\n",
    "push_chart = compute_nash_pusher(model)"
   ]
  },
  {
   "cell_type": "code",
   "execution_count": null,
   "metadata": {},
   "outputs": [],
   "source": [
    "sns.heatmap(push_chart)"
   ]
  },
  {
   "cell_type": "code",
   "execution_count": null,
   "metadata": {},
   "outputs": [],
   "source": [
    "sns.heatmap(call_nash)"
   ]
  },
  {
   "cell_type": "code",
   "execution_count": null,
   "metadata": {},
   "outputs": [],
   "source": [
    "call_nash\n"
   ]
  },
  {
   "cell_type": "code",
   "execution_count": null,
   "metadata": {},
   "outputs": [],
   "source": [
    "from models import save_model\n",
    "\n",
    "save_model(model,'pushfold4')"
   ]
  },
  {
   "cell_type": "code",
   "execution_count": null,
   "metadata": {},
   "outputs": [],
   "source": [
    "from models import load\n",
    "\n",
    "model = load('pushfold')"
   ]
  },
  {
   "cell_type": "code",
   "execution_count": null,
   "metadata": {},
   "outputs": [],
   "source": []
  }
 ],
 "metadata": {
  "kernelspec": {
   "display_name": "Python 3",
   "language": "python",
   "name": "python3"
  },
  "language_info": {
   "codemirror_mode": {
    "name": "ipython",
    "version": 3
   },
   "file_extension": ".py",
   "mimetype": "text/x-python",
   "name": "python",
   "nbconvert_exporter": "python",
   "pygments_lexer": "ipython3",
   "version": "3.6.5"
  }
 },
 "nbformat": 4,
 "nbformat_minor": 2
}
